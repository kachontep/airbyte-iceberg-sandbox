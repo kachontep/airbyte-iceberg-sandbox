{
 "cells": [
  {
   "cell_type": "code",
   "execution_count": 1,
   "id": "64ee85b6-0750-4af5-ab1b-8142a5adc92c",
   "metadata": {},
   "outputs": [
    {
     "data": {
      "text/html": [
       "Current session configs: <tt>{'conf': {'spark.jars.packages': 'org.apache.iceberg:iceberg-spark-runtime-3.2_2.12:1.3.0,software.amazon.awssdk:bundle:2.18.41,software.amazon.awssdk:url-connection-client:2.18.41,software.amazon.awssdk:utils:2.18.41,org.postgresql:postgresql:42.5.0', 'spark.sql.extensions': 'org.apache.iceberg.spark.extensions.IcebergSparkSessionExtensions', 'spark.sql.catalog.iceberg': 'org.apache.iceberg.spark.SparkCatalog', 'spark.sql.catalog.iceberg.catalog-impl': 'org.apache.iceberg.jdbc.JdbcCatalog', 'spark.sql.catalog.iceberg.io-impl': 'org.apache.iceberg.aws.s3.S3FileIO', 'spark.sql.catalog.iceberg.warehouse': 's3a://bucket0/warehouse/', 'spark.sql.catalog.iceberg.s3.endpoint': 'http://airbyte-minio:9000', 'spark.sql.catalog.iceberg.s3.path-style-access': 'true', 'spark.sql.catalog.iceberg.uri': 'jdbc:postgresql://airbyte-catalog:5432/iceberg_catalog', 'spark.sql.catalog.iceberg.jdbc.user': 'admin', 'spark.sql.catalog.iceberg.jdbc.password': 'adminadmin', 'spark.sql.catalog.iceberg.jdbc.useSSL': 'false', 'spark.sql.defaultCatalog': 'iceberg'}, 'kind': 'pyspark'}</tt><br>"
      ],
      "text/plain": [
       "<IPython.core.display.HTML object>"
      ]
     },
     "metadata": {},
     "output_type": "display_data"
    },
    {
     "data": {
      "text/html": [
       "No active sessions."
      ],
      "text/plain": [
       "<IPython.core.display.HTML object>"
      ]
     },
     "metadata": {},
     "output_type": "display_data"
    }
   ],
   "source": [
    "%%configure\n",
    "{\n",
    "    \"conf\": {\n",
    "        \"spark.jars.packages\": \"org.apache.iceberg:iceberg-spark-runtime-3.2_2.12:1.3.0,software.amazon.awssdk:bundle:2.18.41,software.amazon.awssdk:url-connection-client:2.18.41,software.amazon.awssdk:utils:2.18.41,org.postgresql:postgresql:42.5.0\",\n",
    "        \"spark.sql.extensions\": \"org.apache.iceberg.spark.extensions.IcebergSparkSessionExtensions\",\n",
    "        \"spark.sql.catalog.iceberg\": \"org.apache.iceberg.spark.SparkCatalog\",\n",
    "        \"spark.sql.catalog.iceberg.catalog-impl\": \"org.apache.iceberg.jdbc.JdbcCatalog\",\n",
    "        \"spark.sql.catalog.iceberg.io-impl\": \"org.apache.iceberg.aws.s3.S3FileIO\",\n",
    "        \"spark.sql.catalog.iceberg.warehouse\": \"s3a://bucket0/warehouse/\",\n",
    "        \"spark.sql.catalog.iceberg.s3.endpoint\": \"http://airbyte-minio:9000\",\n",
    "        \"spark.sql.catalog.iceberg.s3.path-style-access\": \"true\",\n",
    "        \"spark.sql.catalog.iceberg.uri\": \"jdbc:postgresql://airbyte-catalog:5432/iceberg_catalog\",\n",
    "        \"spark.sql.catalog.iceberg.jdbc.user\": \"admin\",\n",
    "        \"spark.sql.catalog.iceberg.jdbc.password\": \"adminadmin\",\n",
    "        \"spark.sql.catalog.iceberg.jdbc.useSSL\": \"false\",\n",
    "        \"spark.sql.defaultCatalog\": \"iceberg\"\n",
    "    }\n",
    "}"
   ]
  },
  {
   "cell_type": "code",
   "execution_count": 2,
   "id": "55943236-3379-4411-95af-77b4e7fba19c",
   "metadata": {},
   "outputs": [
    {
     "name": "stdout",
     "output_type": "stream",
     "text": [
      "Starting Spark application\n"
     ]
    },
    {
     "data": {
      "text/html": [
       "<table>\n",
       "<tr><th>ID</th><th>YARN Application ID</th><th>Kind</th><th>State</th><th>Spark UI</th><th>Driver log</th><th>User</th><th>Current session?</th></tr><tr><td>9</td><td>None</td><td>pyspark</td><td>idle</td><td></td><td></td><td>None</td><td>✔</td></tr></table>"
      ],
      "text/plain": [
       "<IPython.core.display.HTML object>"
      ]
     },
     "metadata": {},
     "output_type": "display_data"
    },
    {
     "data": {
      "application/vnd.jupyter.widget-view+json": {
       "model_id": "",
       "version_major": 2,
       "version_minor": 0
      },
      "text/plain": [
       "FloatProgress(value=0.0, bar_style='info', description='Progress:', layout=Layout(height='25px', width='50%'),…"
      ]
     },
     "metadata": {},
     "output_type": "display_data"
    },
    {
     "name": "stdout",
     "output_type": "stream",
     "text": [
      "SparkSession available as 'spark'.\n"
     ]
    },
    {
     "data": {
      "application/vnd.jupyter.widget-view+json": {
       "model_id": "",
       "version_major": 2,
       "version_minor": 0
      },
      "text/plain": [
       "FloatProgress(value=0.0, bar_style='info', description='Progress:', layout=Layout(height='25px', width='50%'),…"
      ]
     },
     "metadata": {},
     "output_type": "display_data"
    },
    {
     "name": "stdout",
     "output_type": "stream",
     "text": [
      "<pyspark.sql.session.SparkSession object at 0x7f9a5ff85220>"
     ]
    }
   ],
   "source": [
    "spark"
   ]
  },
  {
   "cell_type": "code",
   "execution_count": 3,
   "id": "b3954863-0baa-4ec4-b8a3-dc1e128e8529",
   "metadata": {},
   "outputs": [
    {
     "data": {
      "application/vnd.jupyter.widget-view+json": {
       "model_id": "",
       "version_major": 2,
       "version_minor": 0
      },
      "text/plain": [
       "FloatProgress(value=0.0, bar_style='info', description='Progress:', layout=Layout(height='25px', width='50%'),…"
      ]
     },
     "metadata": {},
     "output_type": "display_data"
    },
    {
     "data": {
      "application/vnd.jupyter.widget-view+json": {
       "model_id": "5139d22af73444ea9abd9e9b3653f01e",
       "version_major": 2,
       "version_minor": 0
      },
      "text/plain": [
       "VBox(children=(HBox(children=(HTML(value='Type:'), Button(description='Table', layout=Layout(width='70px'), st…"
      ]
     },
     "metadata": {},
     "output_type": "display_data"
    },
    {
     "data": {
      "application/vnd.jupyter.widget-view+json": {
       "model_id": "8a1320c55e8844cbaf4a1aac1b23c950",
       "version_major": 2,
       "version_minor": 0
      },
      "text/plain": [
       "Output()"
      ]
     },
     "metadata": {},
     "output_type": "display_data"
    }
   ],
   "source": [
    "%%sql\n",
    "\n",
    "show databases"
   ]
  },
  {
   "cell_type": "code",
   "execution_count": 4,
   "id": "396a4613-4380-496d-9fee-a18c1e364629",
   "metadata": {},
   "outputs": [
    {
     "data": {
      "application/vnd.jupyter.widget-view+json": {
       "model_id": "",
       "version_major": 2,
       "version_minor": 0
      },
      "text/plain": [
       "FloatProgress(value=0.0, bar_style='info', description='Progress:', layout=Layout(height='25px', width='50%'),…"
      ]
     },
     "metadata": {},
     "output_type": "display_data"
    },
    {
     "data": {
      "application/vnd.jupyter.widget-view+json": {
       "model_id": "810a893548c34b999da0a35d5d1c1d5c",
       "version_major": 2,
       "version_minor": 0
      },
      "text/plain": [
       "VBox(children=(HBox(children=(HTML(value='Type:'), Button(description='Table', layout=Layout(width='70px'), st…"
      ]
     },
     "metadata": {},
     "output_type": "display_data"
    },
    {
     "data": {
      "application/vnd.jupyter.widget-view+json": {
       "model_id": "2da355fa651e4d75b2f1c7ac67eb40ad",
       "version_major": 2,
       "version_minor": 0
      },
      "text/plain": [
       "Output()"
      ]
     },
     "metadata": {},
     "output_type": "display_data"
    }
   ],
   "source": [
    "%%sql\n",
    "\n",
    "show tables in restaurant"
   ]
  },
  {
   "cell_type": "code",
   "execution_count": 9,
   "id": "f1c08b56-404b-45fd-9972-bbe27903669b",
   "metadata": {},
   "outputs": [
    {
     "data": {
      "application/vnd.jupyter.widget-view+json": {
       "model_id": "",
       "version_major": 2,
       "version_minor": 0
      },
      "text/plain": [
       "FloatProgress(value=0.0, bar_style='info', description='Progress:', layout=Layout(height='25px', width='50%'),…"
      ]
     },
     "metadata": {},
     "output_type": "display_data"
    },
    {
     "data": {
      "application/vnd.jupyter.widget-view+json": {
       "model_id": "4afccd031c234e519d0cda1ab5e27cb4",
       "version_major": 2,
       "version_minor": 0
      },
      "text/plain": [
       "VBox(children=(HBox(children=(HTML(value='Type:'), Button(description='Table', layout=Layout(width='70px'), st…"
      ]
     },
     "metadata": {},
     "output_type": "display_data"
    },
    {
     "data": {
      "application/vnd.jupyter.widget-view+json": {
       "model_id": "bdce536c16e74302860e3787739649fd",
       "version_major": 2,
       "version_minor": 0
      },
      "text/plain": [
       "Output()"
      ]
     },
     "metadata": {},
     "output_type": "display_data"
    }
   ],
   "source": [
    "%%sql\n",
    "\n",
    "select 'airbyte_raw_customers' as tbl_name, (select count(*) from restaurant.airbyte_raw_customers) as count\n",
    "\n",
    "union\n",
    "\n",
    "select 'airbyte_raw_transactions' as tbl_name, (select count(*) from restaurant.airbyte_raw_transactions) as count\n",
    "\n",
    "union\n",
    "\n",
    "select 'aribyte_raw_accounts' as tbl_name, (select count(*) from restaurant.airbyte_raw_accounts) as count"
   ]
  },
  {
   "cell_type": "code",
   "execution_count": 5,
   "id": "99cb80f7-d421-42f7-ae14-cd3c9c1c6235",
   "metadata": {},
   "outputs": [
    {
     "data": {
      "application/vnd.jupyter.widget-view+json": {
       "model_id": "",
       "version_major": 2,
       "version_minor": 0
      },
      "text/plain": [
       "FloatProgress(value=0.0, bar_style='info', description='Progress:', layout=Layout(height='25px', width='50%'),…"
      ]
     },
     "metadata": {},
     "output_type": "display_data"
    },
    {
     "data": {
      "application/vnd.jupyter.widget-view+json": {
       "model_id": "a7ae863b48264111a2fcab9be3bbb1a7",
       "version_major": 2,
       "version_minor": 0
      },
      "text/plain": [
       "VBox(children=(HBox(children=(HTML(value='Type:'), Button(description='Table', layout=Layout(width='70px'), st…"
      ]
     },
     "metadata": {},
     "output_type": "display_data"
    },
    {
     "data": {
      "application/vnd.jupyter.widget-view+json": {
       "model_id": "92c8b033011d48baac069ec47b013bd6",
       "version_major": 2,
       "version_minor": 0
      },
      "text/plain": [
       "Output()"
      ]
     },
     "metadata": {},
     "output_type": "display_data"
    }
   ],
   "source": [
    "%%sql\n",
    "\n",
    "show tables in classicmodels"
   ]
  },
  {
   "cell_type": "code",
   "execution_count": 14,
   "id": "698f4c08-90f4-486c-a8f8-c94410fd45bc",
   "metadata": {},
   "outputs": [
    {
     "data": {
      "application/vnd.jupyter.widget-view+json": {
       "model_id": "",
       "version_major": 2,
       "version_minor": 0
      },
      "text/plain": [
       "FloatProgress(value=0.0, bar_style='info', description='Progress:', layout=Layout(height='25px', width='50%'),…"
      ]
     },
     "metadata": {},
     "output_type": "display_data"
    },
    {
     "data": {
      "application/vnd.jupyter.widget-view+json": {
       "model_id": "8412861aa6a0417cb1ab249c7aaa1adb",
       "version_major": 2,
       "version_minor": 0
      },
      "text/plain": [
       "VBox(children=(HBox(children=(HTML(value='Type:'), Button(description='Table', layout=Layout(width='70px'), st…"
      ]
     },
     "metadata": {},
     "output_type": "display_data"
    },
    {
     "data": {
      "application/vnd.jupyter.widget-view+json": {
       "model_id": "bf54db64094d4820a8d47714f95f36b0",
       "version_major": 2,
       "version_minor": 0
      },
      "text/plain": [
       "Output()"
      ]
     },
     "metadata": {},
     "output_type": "display_data"
    }
   ],
   "source": [
    "%%sql\n",
    "\n",
    "select 'airbyte_raw_productlines' as tbl_name, (select count(*) from classicmodels.airbyte_raw_productlines) as count\n",
    "\n",
    "union\n",
    "\n",
    "select 'airbyte_raw_orderdetails' as tbl_name, (select count(*) from classicmodels.airbyte_raw_orderdetails) as count\n",
    "\n",
    "union\n",
    "\n",
    "select 'airbyte_raw_offices' as tbl_name, (select count(*) from classicmodels.airbyte_raw_offices) as count\n",
    "\n",
    "union\n",
    "\n",
    "select 'airbyte_raw_orders' as tbl_name, (select count(*) from classicmodels.airbyte_raw_orders) as count\n",
    "\n",
    "union\n",
    "\n",
    "select 'airbyte_raw_products' as tbl_name, (select count(*) from classicmodels.airbyte_raw_products) as count\n",
    "\n",
    "union\n",
    "\n",
    "select 'airbyte_raw_payments' as tbl_name, (select count(*) from classicmodels.airbyte_raw_payments) as count\n",
    "\n",
    "union\n",
    "\n",
    "select 'airbyte_raw_customers' as tbl_name, (select count(*) from classicmodels.airbyte_raw_customers) as count\n",
    "\n",
    "union\n",
    "\n",
    "select 'airbyte_raw_employees' as tbl_name, (select count(*) from classicmodels.airbyte_raw_employees) as count"
   ]
  }
 ],
 "metadata": {
  "kernelspec": {
   "display_name": "PySpark",
   "language": "python",
   "name": "pysparkkernel"
  },
  "language_info": {
   "codemirror_mode": {
    "name": "python",
    "version": 3
   },
   "file_extension": ".py",
   "mimetype": "text/x-python",
   "name": "pyspark",
   "pygments_lexer": "python3"
  }
 },
 "nbformat": 4,
 "nbformat_minor": 5
}
